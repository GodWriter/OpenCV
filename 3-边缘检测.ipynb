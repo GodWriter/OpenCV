{
 "cells": [
  {
   "cell_type": "code",
   "execution_count": 1,
   "metadata": {},
   "outputs": [],
   "source": [
    "import cv2\n",
    "import matplotlib.pyplot as plt\n",
    "import numpy as np\n",
    "%matplotlib inline"
   ]
  },
  {
   "cell_type": "code",
   "execution_count": 2,
   "metadata": {},
   "outputs": [],
   "source": [
    "def cv_show(img):\n",
    "    # 图像读取\n",
    "    cv2.imshow('image', img)\n",
    "    cv2.waitKey(0)\n",
    "    cv2.destroyAllWindows()"
   ]
  },
  {
   "cell_type": "code",
   "execution_count": 3,
   "metadata": {},
   "outputs": [],
   "source": [
    "img = cv2.imread(\"data/image/boat1.jpeg\", cv2.IMREAD_GRAYSCALE)\n",
    "\n",
    "cv_show(img)"
   ]
  },
  {
   "cell_type": "markdown",
   "metadata": {},
   "source": [
    "## Canny边缘检测"
   ]
  },
  {
   "cell_type": "code",
   "execution_count": 4,
   "metadata": {},
   "outputs": [],
   "source": [
    "# 1. 使用高斯滤波平滑图像，过滤噪声，防止噪声被误检为边缘\n",
    "# 2. 计算图像中每个像素点的梯度强度和方向\n",
    "# 3. 应用非极大值抑制(non-Maximum Suppression)，以消除边缘检测带来的杂散响应\n",
    "# 4. 应用双阈值(Double-Threshold)检测，确定真实和潜在的边缘\n",
    "# 5. 通过抑制孤立的弱边缘最终完成边缘检测\n",
    "\n",
    "v1 = cv2.Canny(img, 120, 250)\n",
    "v2 = cv2.Canny(img, 500, 600)\n",
    "\n",
    "res = np.hstack((v1, v2))\n",
    "cv_show(res)"
   ]
  }
 ],
 "metadata": {
  "kernelspec": {
   "display_name": "Python 3",
   "language": "python",
   "name": "python3"
  },
  "language_info": {
   "codemirror_mode": {
    "name": "ipython",
    "version": 3
   },
   "file_extension": ".py",
   "mimetype": "text/x-python",
   "name": "python",
   "nbconvert_exporter": "python",
   "pygments_lexer": "ipython3",
   "version": "3.6.7"
  }
 },
 "nbformat": 4,
 "nbformat_minor": 2
}

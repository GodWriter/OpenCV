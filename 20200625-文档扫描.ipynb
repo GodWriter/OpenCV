{
 "cells": [
  {
   "cell_type": "code",
   "execution_count": 1,
   "metadata": {
    "collapsed": true
   },
   "outputs": [],
   "source": [
    "import cv2\n",
    "import numpy as np"
   ]
  },
  {
   "cell_type": "code",
   "execution_count": 2,
   "metadata": {
    "collapsed": true
   },
   "outputs": [],
   "source": [
    "def cv_show(img):\n",
    "    # 图像读取\n",
    "    cv2.imshow('image', img)\n",
    "    cv2.waitKey(0)\n",
    "    cv2.destroyAllWindows()"
   ]
  },
  {
   "cell_type": "code",
   "execution_count": 3,
   "metadata": {
    "collapsed": true
   },
   "outputs": [],
   "source": [
    "def resize(image, width=None, height=None, inter=cv2.INTER_AREA):\n",
    "    # 根据同等变例resize图像\n",
    "    dim = None\n",
    "    (h, w) = image.shape[:2]\n",
    "    \n",
    "    if width is None and height is None:\n",
    "        return image\n",
    "\n",
    "    if width is None:\n",
    "        r = height / float(h)\n",
    "        dim = (int(w * r), height)\n",
    "    else:\n",
    "        r = width / float(w)\n",
    "        dim = (width, int(h * r))\n",
    "\n",
    "    resized = cv2.resize(image, dim, interpolation=inter)\n",
    "    return resized"
   ]
  },
  {
   "cell_type": "code",
   "execution_count": 4,
   "metadata": {
    "collapsed": true
   },
   "outputs": [],
   "source": [
    "def order_points(pts):\n",
    "    # 一共4个坐标点\n",
    "    rect = np.zeros((4, 2), dtype = \"float32\")\n",
    "\n",
    "    # 按顺序找到对应坐标0123分别是 左上，右上，右下，左下\n",
    "    # 计算左上，右下\n",
    "    s = pts.sum(axis=1)\n",
    "    rect[0] = pts[np.argmin(s)]\n",
    "    rect[2] = pts[np.argmax(s)]\n",
    "\n",
    "    # 计算右上和左下\n",
    "    diff = np.diff(pts, axis=1)\n",
    "    rect[1] = pts[np.argmin(diff)]\n",
    "    rect[3] = pts[np.argmax(diff)]\n",
    "\n",
    "    return rect"
   ]
  },
  {
   "cell_type": "code",
   "execution_count": 5,
   "metadata": {
    "collapsed": true
   },
   "outputs": [],
   "source": [
    "def four_point_transform(image, pts):\n",
    "    # 获取输入坐标点\n",
    "    rect = order_points(pts)\n",
    "    (tl, tr, br, bl) = rect\n",
    "\n",
    "    # 计算输入的w和h值，相当于计算两点之间的距离\n",
    "    widthA = np.sqrt(((br[0] - bl[0]) ** 2) + ((br[1] - bl[1]) ** 2))\n",
    "    widthB = np.sqrt(((tr[0] - tl[0]) ** 2) + ((tr[1] - tl[1]) ** 2))\n",
    "    maxWidth = max(int(widthA), int(widthB))\n",
    "\n",
    "    heightA = np.sqrt(((tr[0] - br[0]) ** 2) + ((tr[1] - br[1]) ** 2))\n",
    "    heightB = np.sqrt(((tl[0] - bl[0]) ** 2) + ((tl[1] - bl[1]) ** 2))\n",
    "    maxHeight = max(int(heightA), int(heightB))\n",
    "\n",
    "    # 变换后对应坐标位置\n",
    "    dst = np.array([[0, 0],\n",
    "                    [maxWidth-1, 0],\n",
    "                    [maxWidth-1, maxHeight-1],\n",
    "                    [0, maxHeight-1]], \n",
    "                    dtype=\"float32\")\n",
    "\n",
    "    # 计算变换矩阵\n",
    "    M = cv2.getPerspectiveTransform(rect, dst)\n",
    "    warped = cv2.warpPerspective(image, M, (maxWidth, maxHeight))\n",
    "\n",
    "    # 返回变换后结果\n",
    "    return warped"
   ]
  },
  {
   "cell_type": "markdown",
   "metadata": {},
   "source": [
    "## 图像预处理"
   ]
  },
  {
   "cell_type": "code",
   "execution_count": 6,
   "metadata": {
    "collapsed": true
   },
   "outputs": [],
   "source": [
    "# 读取输入, 并记录修改的坐标变化\n",
    "image = \"data/scan/page.jpg\"\n",
    "image = cv2.imread(image)\n",
    "\n",
    "ratio = image.shape[0] / 500.0\n",
    "orig = image.copy()\n",
    "image = resize(orig, height=500)"
   ]
  },
  {
   "cell_type": "code",
   "execution_count": 7,
   "metadata": {
    "collapsed": true
   },
   "outputs": [],
   "source": [
    "# 预处理，边缘检测\n",
    "gray = cv2.cvtColor(image, cv2.COLOR_BGR2GRAY)\n",
    "gray = cv2.GaussianBlur(gray, (5, 5), 0)\n",
    "edged = cv2.Canny(gray, 75, 200)\n",
    "\n",
    "cv_show(gray)\n",
    "cv_show(edged)"
   ]
  },
  {
   "cell_type": "markdown",
   "metadata": {},
   "source": [
    "## 轮廓检测"
   ]
  },
  {
   "cell_type": "code",
   "execution_count": 8,
   "metadata": {
    "collapsed": true
   },
   "outputs": [],
   "source": [
    "# 轮廓检测\n",
    "cnts = cv2.findContours(edged.copy(), cv2.RETR_LIST, cv2.CHAIN_APPROX_SIMPLE)[1]\n",
    "cnts = sorted(cnts, key=cv2.contourArea, reverse=True)[:5]\n",
    "\n",
    "# 遍历轮廓\n",
    "for c in cnts:\n",
    "    # 计算轮廓的近似\n",
    "    peri = cv2.arcLength(c ,True)\n",
    "    # C表示输入点集，epsilon表示从原始轮廓到近似轮廓的最大距离，True表示封闭\n",
    "    approx = cv2.approxPolyDP(c, 0.02 * peri, True)\n",
    "    \n",
    "    # 4个点的时候拿出来\n",
    "    if len(approx) == 4:\n",
    "        screenCnt = approx\n",
    "        break"
   ]
  },
  {
   "cell_type": "code",
   "execution_count": 9,
   "metadata": {
    "collapsed": true
   },
   "outputs": [],
   "source": [
    "# 展示结果\n",
    "\n",
    "cv2.drawContours(image, [screenCnt], -1, (0, 255, 0), 2)\n",
    "cv_show(image)"
   ]
  },
  {
   "cell_type": "markdown",
   "metadata": {},
   "source": [
    "## 透视变换并处理"
   ]
  },
  {
   "cell_type": "code",
   "execution_count": 10,
   "metadata": {
    "collapsed": true
   },
   "outputs": [],
   "source": [
    "warped = four_point_transform(orig, screenCnt.reshape(4, 2)*ratio)\n",
    "\n",
    "warped = cv2.cvtColor(warped, cv2.COLOR_BGR2GRAY)\n",
    "ref = cv2.threshold(warped, 100, 255, cv2.THRESH_BINARY)[1]\n",
    "\n",
    "cv2.imwrite('data/scan/scan.jpg', ref)\n",
    "cv_show(ref)"
   ]
  },
  {
   "cell_type": "markdown",
   "metadata": {},
   "source": [
    "## OCR识别\n",
    "* https://digi.bib.uni-mannheim.de/tesseract/下载安装\n",
    "* 配置全局变量\n",
    "* 修改pytesseract.py中的tesseract_cmd"
   ]
  },
  {
   "cell_type": "code",
   "execution_count": 11,
   "metadata": {
    "collapsed": true
   },
   "outputs": [],
   "source": [
    "import os\n",
    "import cv2\n",
    "import pytesseract\n",
    "\n",
    "from PIL import Image"
   ]
  },
  {
   "cell_type": "code",
   "execution_count": 12,
   "metadata": {
    "collapsed": true
   },
   "outputs": [],
   "source": [
    "# 读取图片并转化为灰度图\n",
    "\n",
    "image = cv2.imread('data/scan/scan.jpg')\n",
    "gray = cv2.cvtColor(image, cv2.COLOR_BGR2GRAY)"
   ]
  },
  {
   "cell_type": "code",
   "execution_count": 13,
   "metadata": {},
   "outputs": [
    {
     "data": {
      "text/plain": [
       "True"
      ]
     },
     "execution_count": 13,
     "metadata": {},
     "output_type": "execute_result"
    }
   ],
   "source": [
    "# 进行预处理\n",
    "preprocess = 'blur'\n",
    "\n",
    "if preprocess == \"thresh\":\n",
    "    gray = cv2.threshold(gray, 0, 255,cv2.THRESH_BINARY | cv2.THRESH_OTSU)[1]\n",
    "if preprocess == \"blur\":\n",
    "    gray = cv2.medianBlur(gray, 3)\n",
    "\n",
    "# 保存处理后的图像\n",
    "filename = \"{}.png\".format(os.getpid())\n",
    "cv2.imwrite(filename, gray)"
   ]
  },
  {
   "cell_type": "code",
   "execution_count": 14,
   "metadata": {},
   "outputs": [
    {
     "name": "stdout",
     "output_type": "stream",
     "text": [
      "pa Yeu bs SENG WANE SP VN bP web Pasi be\n",
      "\n",
      "On Line rp we manipulate the top deft pach in Vive an\n",
      "age, Which is located at coordinate oor and set it ter tae:\n",
      "avalueot (9, 8, 256) Hee were reading thes paver vatie\n",
      "In RGB format, we would have a value ob fs for red, o for\n",
      "green. and 256 tor blue. thus making, ita pure Dhue cobor\n",
      "\n",
      "However, as | mentioned above, We need fo take special\n",
      "care when working with Open@¥ Our prvels are actual.\n",
      "stored in BGR format, net RGB format\n",
      "\n",
      "We actually read this pixel as 255 for red, G for green, and\n",
      "O tor blue, making it a red color, uefa blue color\n",
      "\n",
      "Atter setting the top lett pixel to have a red color on Line\n",
      "1g, we then grab the pixel value and print it back to con:\n",
      "sole on Lines 15 and 16, just to demonstrate that we have\n",
      "indeed successfully changed the color of the pixel\n",
      "\n",
      "Accessing and setting a single pixel value is simple enough,\n",
      "but what if we wanted to use NumP’s array shomy capa\n",
      "bilities to access larger rectangular portions of the image?\n",
      "Phe code below demonstrates how we can do this:\n",
      "\n",
      " \n",
      "\n",
      ". corner smage(S IGG, 4° 160)\n",
      "\n",
      "wo cv. imshow , surner)\n",
      "a amage (0:19, G tue) - G4, DBS, 28\n",
      "evl. apshowt » ihage!\n",
      "\n",
      "2 ev? wartkeyfO)\n",
      "On line 17 we graba 100 | 100 pixel region of the image\n",
      "\n",
      "In fact, this is the top-left corner of the image! In order to\n",
      "grab chunks of an image, NumPy expects we provide four\n"
     ]
    }
   ],
   "source": [
    "text = pytesseract.image_to_string(Image.open(filename))\n",
    "print(text)\n",
    "\n",
    "os.remove(filename)"
   ]
  }
 ],
 "metadata": {
  "kernelspec": {
   "display_name": "Python 3",
   "language": "python",
   "name": "python3"
  },
  "language_info": {
   "codemirror_mode": {
    "name": "ipython",
    "version": 3
   },
   "file_extension": ".py",
   "mimetype": "text/x-python",
   "name": "python",
   "nbconvert_exporter": "python",
   "pygments_lexer": "ipython3",
   "version": "3.6.2"
  }
 },
 "nbformat": 4,
 "nbformat_minor": 2
}

{
 "cells": [
  {
   "cell_type": "code",
   "execution_count": 1,
   "metadata": {},
   "outputs": [],
   "source": [
    "import os\n",
    "import cv2\n",
    "\n",
    "import numpy as np"
   ]
  },
  {
   "cell_type": "code",
   "execution_count": 2,
   "metadata": {},
   "outputs": [],
   "source": [
    "def cv_show(img):\n",
    "    # 图像读取\n",
    "    cv2.imshow('image', img)\n",
    "    cv2.waitKey(0)\n",
    "    cv2.destroyAllWindows()"
   ]
  },
  {
   "cell_type": "markdown",
   "metadata": {},
   "source": [
    "## 获取数据"
   ]
  },
  {
   "cell_type": "code",
   "execution_count": 3,
   "metadata": {},
   "outputs": [],
   "source": [
    "img1 = cv2.imread('data/imageStich/left.png')\n",
    "img2 = cv2.imread('data/imageStich/right.png')\n",
    "\n",
    "cv_show(img1)\n",
    "cv_show(img2)"
   ]
  },
  {
   "cell_type": "markdown",
   "metadata": {},
   "source": [
    "## Brute-Force蛮力匹配"
   ]
  },
  {
   "cell_type": "code",
   "execution_count": 4,
   "metadata": {},
   "outputs": [
    {
     "name": "stdout",
     "output_type": "stream",
     "text": [
      "(749, 128)\n",
      "(898, 128)\n"
     ]
    }
   ],
   "source": [
    "sift = cv2.xfeatures2d.SIFT_create()\n",
    "\n",
    "kp1, des1 = sift.detectAndCompute(img1, None)\n",
    "kp2, des2 = sift.detectAndCompute(img2, None)\n",
    "\n",
    "print(des1.shape)\n",
    "print(des2.shape)"
   ]
  },
  {
   "cell_type": "code",
   "execution_count": 5,
   "metadata": {},
   "outputs": [],
   "source": [
    "# crossCheck表示两个特征点要相互匹配，A中i，B中j，要相互离对方最近\n",
    "bf = cv2.BFMatcher(crossCheck=True)\n",
    "\n",
    "matches = bf.match(des1, des2)\n",
    "matches = sorted(matches, key=lambda x: x.distance)"
   ]
  },
  {
   "cell_type": "code",
   "execution_count": 6,
   "metadata": {},
   "outputs": [],
   "source": [
    "# 画出匹配的特征点\n",
    "img3 = cv2.drawMatches(img1, kp1, img2, kp2, matches[:30], None, flags=2)\n",
    "\n",
    "cv_show(img3)"
   ]
  },
  {
   "cell_type": "markdown",
   "metadata": {},
   "source": [
    "## K对最佳匹配"
   ]
  },
  {
   "cell_type": "code",
   "execution_count": 7,
   "metadata": {},
   "outputs": [],
   "source": [
    "bf = cv2.BFMatcher()\n",
    "matches = bf.knnMatch(des1, des2, k=2)\n",
    "\n",
    "# 过滤关键点的方法，需要自己根据实际数据配置\n",
    "# 这里是希望 (m/n) < 0.35，去除离群点\n",
    "good = []\n",
    "for m, n in matches:\n",
    "    if m.distance < 0.35*n.distance:\n",
    "        good.append([m])\n",
    "        \n",
    "img3 = cv2.drawMatchesKnn(img1, kp1, img2, kp2, good, None, flags=2)\n",
    "cv_show(img3)"
   ]
  },
  {
   "cell_type": "markdown",
   "metadata": {},
   "source": [
    "## 全景拼接"
   ]
  },
  {
   "cell_type": "code",
   "execution_count": 8,
   "metadata": {},
   "outputs": [],
   "source": [
    "def detectAndDescribe(image):\n",
    "    gray = cv2.cvtColor(image, cv2.COLOR_BGR2GRAY)\n",
    "    \n",
    "    # 建立SIFT生成器，检测SIFT特征点并转化为Numpy数组\n",
    "    descriptor = cv2.xfeatures2d.SIFT_create()\n",
    "    (kps, features) = descriptor.detectAndCompute(image, None)\n",
    "    kps = np.float32([kp.pt for kp in kps])\n",
    "    \n",
    "    return (kps, features)"
   ]
  },
  {
   "cell_type": "code",
   "execution_count": 9,
   "metadata": {},
   "outputs": [],
   "source": [
    "def matchKeypoints(kpsA, kpsB, featureA, featureB, ratio, reprojThresh):\n",
    "    matcher = cv2.BFMatcher()\n",
    "    rawMatches = matcher.knnMatch(featureA, featureB, 2)\n",
    "    \n",
    "    matches = []\n",
    "    for m in rawMatches:\n",
    "        # 当最近距离和次距离的比值小于ratio值时，保留匹配对，并记录索引值\n",
    "        if len(m) == 2 and m[0].distance < ratio * m[1].distance:\n",
    "            matches.append((m[0].trainIdx, m[0].queryIdx))\n",
    "    \n",
    "    # 当筛选后的匹配大于4时，计算视角变换矩阵\n",
    "    if len(matches) > 4:\n",
    "        ptsA = np.float32([kpsA[i] for (_, i) in matches])\n",
    "        ptsB = np.float32([kpsB[i] for (i, _) in matches])\n",
    "        \n",
    "        # 计算视角变换矩阵\n",
    "        (H, status) = cv2.findHomography(ptsA, ptsB, cv2.RANSAC, reprojThresh)\n",
    "        \n",
    "        return (matches, H, status)\n",
    "    \n",
    "    return None"
   ]
  },
  {
   "cell_type": "code",
   "execution_count": 10,
   "metadata": {},
   "outputs": [],
   "source": [
    "def drawMatches(imageA, imageB, kpsA, kpsB, matches, status):\n",
    "    # 初始化可视化图片，将A、B图左右连接到一起\n",
    "    (hA, wA) = imageA.shape[:2]\n",
    "    (hB, wB) = imageB.shape[:2]\n",
    "    \n",
    "    vis = np.zeros((max(hA, hB), wA + wB, 3), dtype='uint8')\n",
    "    vis[0: hA, 0: wA] = imageA\n",
    "    vis[0: hB, wA:] = imageB\n",
    "    \n",
    "    # 联合遍历，画出匹配对\n",
    "    for ((trainIdx, queryIdx), s) in zip(matches, status):\n",
    "        if s == 1:\n",
    "            ptA = (int(kpsA[queryIdx][0]), int(kpsA[queryIdx][1]))\n",
    "            ptB = (int(kpsB[trainIdx][0])+wA, int(kpsB[trainIdx][1]))\n",
    "            cv2.line(vis, ptA, ptB, (0, 255, 0), 1)\n",
    "    \n",
    "    return vis"
   ]
  },
  {
   "cell_type": "code",
   "execution_count": 11,
   "metadata": {},
   "outputs": [],
   "source": [
    "def stitch(images, ratio=0.75, reprojThresh=4.0, showMatches=False):\n",
    "    (imageB, imageA) = images\n",
    "    (kpsA, featuresA) = detectAndDescribe(imageA)\n",
    "    (kpsB, featuresB) = detectAndDescribe(imageB)\n",
    "    \n",
    "    M = matchKeypoints(kpsA, kpsB, featuresA, featuresB, ratio, reprojThresh)\n",
    "    if M is None:\n",
    "        return None\n",
    "    \n",
    "    # 提取匹配结果，并对A进行视角变换\n",
    "    (matches, H, status) = M\n",
    "    result = cv2.warpPerspective(imageA, H, (imageA.shape[1] + imageB.shape[1], imageA.shape[0]))\n",
    "    cv_show(result)\n",
    "    \n",
    "    # 将图片B传入result图片最左端\n",
    "    result[0: imageB.shape[0], 0: imageB.shape[1]] = imageB\n",
    "    cv_show(result)\n",
    "    \n",
    "    if showMatches:\n",
    "        vis = drawMatches(imageA, imageB, kpsA, kpsB, matches, status)\n",
    "        return (result, vis)\n",
    "    \n",
    "    return result"
   ]
  },
  {
   "cell_type": "code",
   "execution_count": 12,
   "metadata": {},
   "outputs": [],
   "source": [
    "imgA = cv2.imread('data/imageStich/left.png')\n",
    "imgB = cv2.imread('data/imageStich/right.png')\n",
    "\n",
    "(result, vis) = stitch([imgA, imgB], showMatches=True)"
   ]
  }
 ],
 "metadata": {
  "kernelspec": {
   "display_name": "Python 3",
   "language": "python",
   "name": "python3"
  },
  "language_info": {
   "codemirror_mode": {
    "name": "ipython",
    "version": 3
   },
   "file_extension": ".py",
   "mimetype": "text/x-python",
   "name": "python",
   "nbconvert_exporter": "python",
   "pygments_lexer": "ipython3",
   "version": "3.6.7"
  }
 },
 "nbformat": 4,
 "nbformat_minor": 2
}

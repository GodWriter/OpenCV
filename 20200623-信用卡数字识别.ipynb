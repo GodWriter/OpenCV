{
 "cells": [
  {
   "cell_type": "code",
   "execution_count": 1,
   "metadata": {},
   "outputs": [],
   "source": [
    "import os\n",
    "import cv2\n",
    "import numpy as np\n",
    "import utils.ocrUtils as myutils\n",
    "\n",
    "from imutils import contours"
   ]
  },
  {
   "cell_type": "code",
   "execution_count": 2,
   "metadata": {
    "collapsed": true
   },
   "outputs": [],
   "source": [
    "def cv_show(img):\n",
    "    cv2.imshow(\"img\", img)\n",
    "    cv2.waitKey(0)\n",
    "    cv2.destroyAllWindows()"
   ]
  },
  {
   "cell_type": "markdown",
   "metadata": {},
   "source": [
    "## 设置参数"
   ]
  },
  {
   "cell_type": "code",
   "execution_count": 3,
   "metadata": {
    "collapsed": true
   },
   "outputs": [],
   "source": [
    "image = \"data/ocr/credit_card_01.png\"\n",
    "template = \"data/ocr/ocr_a_reference.png\"\n",
    "\n",
    "FIRST_NUMBER = {\"3\": \"American Express\", \n",
    "                \"4\": \"Visa\", \n",
    "                \"5\": \"MasterCard\", \n",
    "                \"6\": \"Discover Card\"}"
   ]
  },
  {
   "cell_type": "markdown",
   "metadata": {},
   "source": [
    "## 模板图像预处理"
   ]
  },
  {
   "cell_type": "code",
   "execution_count": 4,
   "metadata": {},
   "outputs": [],
   "source": [
    "# 1. 读取图片，转化为灰度图\n",
    "# 2. 对图像阈值进行处理\n",
    "\n",
    "img = cv2.imread(template)\n",
    "ref = cv2.cvtColor(img, cv2.COLOR_BGR2GRAY)\n",
    "_, ref = cv2.threshold(ref, 10, 255, cv2.THRESH_BINARY_INV)\n",
    "\n",
    "cv_show(ref)"
   ]
  },
  {
   "cell_type": "markdown",
   "metadata": {},
   "source": [
    "## 计算模板图像轮廓"
   ]
  },
  {
   "cell_type": "code",
   "execution_count": 5,
   "metadata": {},
   "outputs": [],
   "source": [
    "# cv2.findContours()函数接受的参数为二值图，即黑白的（不是灰度图）\n",
    "# cv2.RETR_EXTERNAL只检测外轮廓\n",
    "# cv2.CHAIN_APPROX_SIMPLE只保留终点坐标\n",
    "# 返回的list中每个元素都是图像中的一个轮廓\n",
    "# 对返回的轮廓从左到右，从上到下排序\n",
    "\n",
    "_, refCnts, hierarchy = cv2.findContours(ref.copy(),\n",
    "                                         cv2.RETR_EXTERNAL,\n",
    "                                         cv2.CHAIN_APPROX_SIMPLE)\n",
    "cv2.drawContours(img, refCnts, -1, (0, 0, 255), 3)\n",
    "# print(np.array(refCnts).shape)\n",
    "refCnts = myutils.sort_contours(refCnts, method=\"left-to-right\")[0]"
   ]
  },
  {
   "cell_type": "code",
   "execution_count": 6,
   "metadata": {},
   "outputs": [],
   "source": [
    "# 遍历每一个轮廓\n",
    "#   > 计算外接矩形并resize成合适大小\n",
    "#   > 每一个数字对应一个模板\n",
    "\n",
    "digits = {}\n",
    "\n",
    "for (i, c) in enumerate(refCnts):\n",
    "    (x, y, w, h) = cv2.boundingRect(c)\n",
    "    roi = ref[y: y+h, x: x+w]\n",
    "    roi = cv2.resize(roi, (57, 88))\n",
    "    \n",
    "    digits[i] = roi"
   ]
  },
  {
   "cell_type": "markdown",
   "metadata": {},
   "source": [
    "## 信用卡图像预处理"
   ]
  },
  {
   "cell_type": "code",
   "execution_count": 7,
   "metadata": {},
   "outputs": [],
   "source": [
    "# 初始化卷积核\n",
    "rectKernel = cv2.getStructuringElement(cv2.MORPH_RECT, (9, 3))\n",
    "\n",
    "image = cv2.imread(image)\n",
    "image = myutils.resize(image, width=300)\n",
    "gray = cv2.cvtColor(image, cv2.COLOR_BGR2GRAY)\n",
    "\n",
    "cv_show(gray)"
   ]
  },
  {
   "cell_type": "code",
   "execution_count": 8,
   "metadata": {
    "collapsed": true
   },
   "outputs": [],
   "source": [
    "# 礼帽操作，突出更明亮的区域\n",
    "tophat = cv2.morphologyEx(gray, cv2.MORPH_TOPHAT, rectKernel)\n",
    "\n",
    "cv_show(tophat)"
   ]
  },
  {
   "cell_type": "code",
   "execution_count": 9,
   "metadata": {
    "collapsed": true
   },
   "outputs": [],
   "source": [
    "gradX = cv2.Sobel(tophat, ddepth=cv2.CV_32F, dx=1, dy=0, ksize=-1)\n",
    "gradX = np.absolute(gradX)\n",
    "\n",
    "(minVal, maxVal) = (np.min(gradX), np.max(gradX))\n",
    "gradX = (255 * ((gradX - minVal) / (maxVal - minVal)))\n",
    "gradX = gradX.astype(\"uint8\")\n",
    "\n",
    "cv_show(gradX)"
   ]
  },
  {
   "cell_type": "code",
   "execution_count": 10,
   "metadata": {
    "collapsed": true
   },
   "outputs": [],
   "source": [
    "# 通过闭操作（先膨胀，再腐蚀），将数字连在一起\n",
    "gradX = cv2.morphologyEx(gradX, cv2.MORPH_CLOSE, rectKernel)\n",
    "\n",
    "cv_show(gradX)"
   ]
  },
  {
   "cell_type": "code",
   "execution_count": 11,
   "metadata": {
    "collapsed": true
   },
   "outputs": [],
   "source": [
    "#THRESH_OTSU会自动寻找合适的阈值，适合双峰，需把阈值参数设置为0\n",
    "\n",
    "_, thresh = cv2.threshold(gradX, 0, 255, \n",
    "                       cv2.THRESH_BINARY | cv2.THRESH_OTSU)\n",
    "\n",
    "cv_show(thresh)"
   ]
  },
  {
   "cell_type": "code",
   "execution_count": 12,
   "metadata": {
    "collapsed": true
   },
   "outputs": [],
   "source": [
    "# 再来一个闭操作\n",
    "sqKernel = cv2.getStructuringElement(cv2.MORPH_RECT, (5, 5))\n",
    "\n",
    "thresh = cv2.morphologyEx(thresh, cv2.MORPH_CLOSE, sqKernel)\n",
    "cv_show(thresh)"
   ]
  },
  {
   "cell_type": "markdown",
   "metadata": {},
   "source": [
    "## 信用卡轮廓计算"
   ]
  },
  {
   "cell_type": "code",
   "execution_count": 13,
   "metadata": {
    "collapsed": true
   },
   "outputs": [],
   "source": [
    "_, threshCnts, hierarchy = cv2.findContours(thresh.copy(), \n",
    "                                            cv2.RETR_EXTERNAL,\n",
    "                                            cv2.CHAIN_APPROX_SIMPLE)\n",
    "\n",
    "cnts = threshCnts\n",
    "cur_img = image.copy()\n",
    "\n",
    "cv2.drawContours(cur_img, cnts, -1, (0, 0, 255), 3)\n",
    "cv_show(cur_img)"
   ]
  },
  {
   "cell_type": "code",
   "execution_count": 14,
   "metadata": {},
   "outputs": [],
   "source": [
    "# 遍历轮廓\n",
    "#    > 计算矩形\n",
    "#    > 选择合适的区域，根据实际任务来，这里基本都是四个数字一组\n",
    "\n",
    "locs = []\n",
    "\n",
    "for (i, c) in enumerate(cnts):\n",
    "    (x, y, w, h) = cv2.boundingRect(c)\n",
    "    ar = w / float(h)\n",
    "    \n",
    "    if ar > 2.5 and ar < 4.0:\n",
    "        if(w > 40 and w < 55) and (h > 10 and h < 20):\n",
    "            locs.append((x, y, w, h))\n",
    "\n",
    "# 将符合得轮廓从左到右排序\n",
    "locs = sorted(locs, key=lambda x:x[0])"
   ]
  },
  {
   "cell_type": "markdown",
   "metadata": {},
   "source": [
    "## 通过模板匹配找到信用卡上得数字"
   ]
  },
  {
   "cell_type": "code",
   "execution_count": 15,
   "metadata": {},
   "outputs": [],
   "source": [
    "outputs = []\n",
    "\n",
    "for (i, (gX, gY, gW, gH)) in enumerate(locs):\n",
    "    groupOutput = []\n",
    "    \n",
    "    # 根据坐标提取每一个组\n",
    "    group = gray[gY - 5: gY + gH + 5, gX - 5: gX + gW + 5]\n",
    "    \n",
    "    # 图像预处理\n",
    "    _, group = cv2.threshold(group, 0, 255,\n",
    "                          cv2.THRESH_BINARY | cv2.THRESH_OTSU)\n",
    "    \n",
    "    # 计算每一组得轮廓\n",
    "    _, digitCnts, hierarchy = cv2.findContours(group.copy(),\n",
    "                                               cv2.RETR_EXTERNAL,\n",
    "                                               cv2.CHAIN_APPROX_SIMPLE)\n",
    "    digitCnts = contours.sort_contours(digitCnts,\n",
    "                                       method=\"left-to-right\")[0]\n",
    "    \n",
    "    # 计算每一组中的每一个数值\n",
    "    for c in digitCnts:\n",
    "        # 找到当前数值的轮廓，resize成合适的大小\n",
    "        (x, y, w, h) = cv2.boundingRect(c)\n",
    "        roi = group[y: y+h, x: x+w]\n",
    "        roi = cv2.resize(roi, (57, 88))\n",
    "        \n",
    "        # 计算匹配得分\n",
    "        scores = []\n",
    "        \n",
    "        # 在模板中计算每一个得分\n",
    "        for (digit, digitROI) in digits.items():\n",
    "            # 模板匹配\n",
    "            result = cv2.matchTemplate(roi, digitROI, cv2.TM_CCOEFF)\n",
    "            (_, score, _, _) = cv2.minMaxLoc(result)\n",
    "        \n",
    "            scores.append(score)\n",
    "        \n",
    "        # 得到最合适的数字\n",
    "        groupOutput.append(str(np.argmax(scores)))\n",
    "    \n",
    "    # 画出来\n",
    "    cv2.rectangle(image, (gX - 5, gY - 5),\n",
    "                  (gX + gW + 5, gY + gH + 5),\n",
    "                  (0, 0, 255), 1)\n",
    "    cv2.putText(image, \"\".join(groupOutput), (gX, gY - 15),\n",
    "                cv2.FONT_HERSHEY_SIMPLEX, 0.65, (0, 0, 255), 2)\n",
    "    \n",
    "    # 得到结果\n",
    "    outputs.extend(groupOutput)"
   ]
  },
  {
   "cell_type": "code",
   "execution_count": 16,
   "metadata": {},
   "outputs": [
    {
     "name": "stdout",
     "output_type": "stream",
     "text": [
      "Credit Card Type: Visa\n",
      "Credit Card #: 4000123456789010\n"
     ]
    }
   ],
   "source": [
    "print(\"Credit Card Type: {}\".format(FIRST_NUMBER[outputs[0]]))\n",
    "print(\"Credit Card #: {}\".format(\"\".join(outputs)))\n",
    "\n",
    "cv_show(image)"
   ]
  }
 ],
 "metadata": {
  "kernelspec": {
   "display_name": "Python 3",
   "language": "python",
   "name": "python3"
  },
  "language_info": {
   "codemirror_mode": {
    "name": "ipython",
    "version": 3
   },
   "file_extension": ".py",
   "mimetype": "text/x-python",
   "name": "python",
   "nbconvert_exporter": "python",
   "pygments_lexer": "ipython3",
   "version": "3.6.2"
  }
 },
 "nbformat": 4,
 "nbformat_minor": 2
}

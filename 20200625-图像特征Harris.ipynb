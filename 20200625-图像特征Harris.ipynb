{
 "cells": [
  {
   "cell_type": "code",
   "execution_count": 1,
   "metadata": {},
   "outputs": [],
   "source": [
    "import cv2\n",
    "import matplotlib.pyplot as plt\n",
    "%matplotlib inline"
   ]
  },
  {
   "cell_type": "code",
   "execution_count": 2,
   "metadata": {},
   "outputs": [],
   "source": [
    "def cv_show(img):\n",
    "    # 图像读取\n",
    "    cv2.imshow('image', img)\n",
    "    cv2.waitKey(0)\n",
    "    cv2.destroyAllWindows()"
   ]
  },
  {
   "cell_type": "code",
   "execution_count": 3,
   "metadata": {},
   "outputs": [],
   "source": [
    "img = cv2.imread(\"data/image/boat1.jpeg\")\n",
    "\n",
    "cv_show(img)"
   ]
  },
  {
   "cell_type": "markdown",
   "metadata": {},
   "source": [
    "## 角点检测"
   ]
  },
  {
   "cell_type": "code",
   "execution_count": 4,
   "metadata": {},
   "outputs": [
    {
     "name": "stdout",
     "output_type": "stream",
     "text": [
      "image.shape:  (612, 500, 3)\n",
      "dst.shape:  (612, 500)\n"
     ]
    }
   ],
   "source": [
    "# cv2.cornerHarris()\n",
    "#     img: 数据类型为float32的图像\n",
    "#     blockSize：角点检测中指定区域的大小\n",
    "#     ksize：Sobel求导中使用的窗口大小，一般为3\n",
    "#     k：取值参数为[0.04, 0.06]\n",
    "\n",
    "gray = cv2.cvtColor(img, cv2.COLOR_BGR2GRAY)\n",
    "dst = cv2.cornerHarris(gray, 2, 3, 0.04)\n",
    "\n",
    "# 计算每一个点进行平移后的自相似性\n",
    "print(\"image.shape: \", img.shape)\n",
    "print(\"dst.shape: \", dst.shape)"
   ]
  },
  {
   "cell_type": "code",
   "execution_count": 5,
   "metadata": {},
   "outputs": [],
   "source": [
    "# 若img中的某个位置上的dst值大于最大值的百分之1，那么应该就是角点\n",
    "tmp = img.copy()\n",
    "tmp[dst > 0.01*dst.max()] = [0, 0, 255]\n",
    "\n",
    "cv_show(tmp)"
   ]
  }
 ],
 "metadata": {
  "kernelspec": {
   "display_name": "Python 3",
   "language": "python",
   "name": "python3"
  },
  "language_info": {
   "codemirror_mode": {
    "name": "ipython",
    "version": 3
   },
   "file_extension": ".py",
   "mimetype": "text/x-python",
   "name": "python",
   "nbconvert_exporter": "python",
   "pygments_lexer": "ipython3",
   "version": "3.6.7"
  }
 },
 "nbformat": 4,
 "nbformat_minor": 2
}

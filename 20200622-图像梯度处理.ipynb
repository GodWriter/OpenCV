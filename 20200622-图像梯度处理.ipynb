{
 "cells": [
  {
   "cell_type": "code",
   "execution_count": 1,
   "metadata": {
    "collapsed": true
   },
   "outputs": [],
   "source": [
    "import cv2\n",
    "import matplotlib.pyplot as plt\n",
    "import numpy as np\n",
    "%matplotlib inline"
   ]
  },
  {
   "cell_type": "code",
   "execution_count": 2,
   "metadata": {
    "collapsed": true
   },
   "outputs": [],
   "source": [
    "def cv_show(img):\n",
    "    # 图像读取\n",
    "    cv2.imshow('image', img)\n",
    "    cv2.waitKey(0)\n",
    "    cv2.destroyAllWindows()"
   ]
  },
  {
   "cell_type": "code",
   "execution_count": 3,
   "metadata": {
    "collapsed": true
   },
   "outputs": [],
   "source": [
    "img = cv2.imread(\"data/image/boat1.jpeg\")\n",
    "\n",
    "cv_show(img)"
   ]
  },
  {
   "cell_type": "markdown",
   "metadata": {},
   "source": [
    "## 图像梯度-Sobel算子"
   ]
  },
  {
   "cell_type": "code",
   "execution_count": 4,
   "metadata": {
    "collapsed": true
   },
   "outputs": [],
   "source": [
    "# dst = cv2.Sobel(src, ddpeth, dx, dy, ksize)\n",
    "# ddepth：图像深度，通常指定为-1，表示输入和输出深度一致\n",
    "# dx, dy分别代表水平和竖直方向\n",
    "# ksize是Sobel算子大小\n",
    "\n",
    "sobelX = cv2.Sobel(img, cv2.CV_64F, 0, 1, ksize=3)\n",
    "\n",
    "cv_show(sobelX)"
   ]
  },
  {
   "cell_type": "code",
   "execution_count": 5,
   "metadata": {
    "collapsed": true
   },
   "outputs": [],
   "source": [
    "# sobelX的结果会存在负数，负数在显示的时候默认截断为0\n",
    "# 白到黑是正数，黑到白是负数；所有的负数会被截断成0， 所以要取绝对值\n",
    "\n",
    "sobelX = cv2.Sobel(img, cv2.CV_64F, 0, 1, ksize=3)\n",
    "sobelX = cv2.convertScaleAbs(sobelX)\n",
    "\n",
    "cv_show(sobelX)"
   ]
  },
  {
   "cell_type": "code",
   "execution_count": 6,
   "metadata": {
    "collapsed": true
   },
   "outputs": [],
   "source": [
    "sobelY = cv2.Sobel(img, cv2.CV_64F, 1, 0, ksize=3)\n",
    "sobelY = cv2.convertScaleAbs(sobelY)\n",
    "\n",
    "cv_show(sobelY)"
   ]
  },
  {
   "cell_type": "code",
   "execution_count": 7,
   "metadata": {
    "collapsed": true
   },
   "outputs": [],
   "source": [
    "# 分别计算dx, dy；再求和\n",
    "sobelXY = cv2.addWeighted(sobelX, 0.5, sobelY, 0.5, 0)\n",
    "\n",
    "cv_show(sobelXY)"
   ]
  },
  {
   "cell_type": "code",
   "execution_count": 8,
   "metadata": {
    "collapsed": true
   },
   "outputs": [],
   "source": [
    "# 不建议直接计算\n",
    "sobelXY = cv2.Sobel(img, cv2.CV_64F, 1, 1, ksize=3)\n",
    "sobelXY = cv2.convertScaleAbs(sobelXY)\n",
    "\n",
    "cv_show(sobelXY)"
   ]
  },
  {
   "cell_type": "markdown",
   "metadata": {},
   "source": [
    "## 图像梯度-Scharr算子"
   ]
  },
  {
   "cell_type": "code",
   "execution_count": 9,
   "metadata": {
    "collapsed": true
   },
   "outputs": [],
   "source": [
    "scharrX = cv2.Scharr(img, cv2.CV_64F, 1, 0)\n",
    "scharrY = cv2.Scharr(img, cv2.CV_64F, 0, 1)\n",
    "\n",
    "scharrX = cv2.convertScaleAbs(scharrX)\n",
    "scharrY = cv2.convertScaleAbs(scharrY)\n",
    "\n",
    "scharrXY = cv2.addWeighted(scharrX, 0.5, scharrY, 0.5, 0)\n",
    "\n",
    "cv_show(scharrXY)"
   ]
  },
  {
   "cell_type": "markdown",
   "metadata": {},
   "source": [
    "## 图像梯度-Laplacian算子"
   ]
  },
  {
   "cell_type": "code",
   "execution_count": 10,
   "metadata": {
    "collapsed": true
   },
   "outputs": [],
   "source": [
    "laplacian = cv2.Laplacian(img, cv2.CV_64F)\n",
    "laplacian = cv2.convertScaleAbs(laplacian)\n",
    "\n",
    "cv_show(laplacian)"
   ]
  },
  {
   "cell_type": "markdown",
   "metadata": {},
   "source": [
    "## 统一展示"
   ]
  },
  {
   "cell_type": "code",
   "execution_count": 11,
   "metadata": {
    "collapsed": true
   },
   "outputs": [],
   "source": [
    "res = np.hstack((sobelXY, scharrXY, laplacian))\n",
    "\n",
    "cv_show(res)"
   ]
  }
 ],
 "metadata": {
  "kernelspec": {
   "display_name": "Python 3",
   "language": "python",
   "name": "python3"
  },
  "language_info": {
   "codemirror_mode": {
    "name": "ipython",
    "version": 3
   },
   "file_extension": ".py",
   "mimetype": "text/x-python",
   "name": "python",
   "nbconvert_exporter": "python",
   "pygments_lexer": "ipython3",
   "version": "3.6.2"
  }
 },
 "nbformat": 4,
 "nbformat_minor": 2
}

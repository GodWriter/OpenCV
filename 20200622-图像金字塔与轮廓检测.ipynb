{
 "cells": [
  {
   "cell_type": "code",
   "execution_count": 1,
   "metadata": {},
   "outputs": [],
   "source": [
    "import cv2\n",
    "import matplotlib.pyplot as plt\n",
    "import numpy as np\n",
    "%matplotlib inline"
   ]
  },
  {
   "cell_type": "code",
   "execution_count": 2,
   "metadata": {},
   "outputs": [],
   "source": [
    "def cv_show(img):\n",
    "    # 图像读取\n",
    "    cv2.imshow('image', img)\n",
    "    cv2.waitKey(0)\n",
    "    cv2.destroyAllWindows()"
   ]
  },
  {
   "cell_type": "code",
   "execution_count": 3,
   "metadata": {},
   "outputs": [],
   "source": [
    "img = cv2.imread(\"data/image/boat1.jpeg\")\n",
    "\n",
    "cv_show(img)"
   ]
  },
  {
   "cell_type": "markdown",
   "metadata": {},
   "source": [
    "## 高斯金字塔"
   ]
  },
  {
   "cell_type": "code",
   "execution_count": 4,
   "metadata": {},
   "outputs": [],
   "source": [
    "# 上采样\n",
    "upSampling = cv2.pyrUp(img)\n",
    "\n",
    "cv_show(upSampling)"
   ]
  },
  {
   "cell_type": "code",
   "execution_count": 5,
   "metadata": {},
   "outputs": [],
   "source": [
    "# 下采样\n",
    "downSampling = cv2.pyrDown(img)\n",
    "\n",
    "cv_show(downSampling)"
   ]
  },
  {
   "cell_type": "markdown",
   "metadata": {},
   "source": [
    "## 拉普拉斯金字塔"
   ]
  },
  {
   "cell_type": "code",
   "execution_count": 6,
   "metadata": {},
   "outputs": [],
   "source": [
    "down = cv2.pyrDown(img)\n",
    "down_up = cv2.pyrUp(down)\n",
    "l_1 = img - down_up\n",
    "\n",
    "cv_show(l_1)"
   ]
  },
  {
   "cell_type": "markdown",
   "metadata": {},
   "source": [
    "## 图像轮廓"
   ]
  },
  {
   "cell_type": "code",
   "execution_count": 7,
   "metadata": {},
   "outputs": [],
   "source": [
    "# cv2.findContours(img.mode, method)\n",
    "# mode: 轮廓检测模式\n",
    "#     RETR_EXTERNAL: 只检索最外面的轮廓；\n",
    "#     RETR_LIST: 检索所有的轮廓，并将其保存到一条链表当中\n",
    "#     RETR_CCOMP: 检索所有的轮廓，并将他们组织为两层；顶层是各部分的外部边界，第二层是空洞的边界\n",
    "#     RETR_TREE: 检索所有的轮廓， 并重构嵌套轮廓的整个层次\n",
    "# method: 轮廓逼近方法\n",
    "#    CHAIN_APPROX_NONE: 以Freeman链码的方式输出轮廓，所有其他方法输出多边形（顶点的序列）\n",
    "#    CHAIN_APPROX_SIMPLE: 压缩水平的、垂直的和斜的部分，也就是说函数只保留他们的终点部分\n",
    "# 为了提高准确率，使用二值图像\n",
    "\n",
    "# 先转灰度图，再进行阈值处理\n",
    "gray = cv2.cvtColor(img, cv2.COLOR_BGR2GRAY)\n",
    "ret, thresh = cv2.threshold(gray, 127, 255, cv2.THRESH_BINARY)\n",
    "\n",
    "cv_show(thresh)"
   ]
  },
  {
   "cell_type": "code",
   "execution_count": 8,
   "metadata": {},
   "outputs": [],
   "source": [
    "# 检测所有的轮廓，画出所有的点\n",
    "binary, contours, hierarchy = cv2.findContours(thresh, cv2.RETR_TREE, cv2.CHAIN_APPROX_NONE)\n",
    "\n",
    "# 绘制轮廓,由于会覆盖原始图像，故须先拷贝\n",
    "# 传入需绘制的图像，轮廓，轮廓索引(-1默认全部)，颜色模式，线条厚度\n",
    "draw_img = img.copy()\n",
    "res = cv2.drawContours(draw_img, contours, -1, (0, 0, 255), 2)\n",
    "\n",
    "cv_show(res)"
   ]
  }
 ],
 "metadata": {
  "kernelspec": {
   "display_name": "Python 3",
   "language": "python",
   "name": "python3"
  },
  "language_info": {
   "codemirror_mode": {
    "name": "ipython",
    "version": 3
   },
   "file_extension": ".py",
   "mimetype": "text/x-python",
   "name": "python",
   "nbconvert_exporter": "python",
   "pygments_lexer": "ipython3",
   "version": "3.6.7"
  }
 },
 "nbformat": 4,
 "nbformat_minor": 2
}
